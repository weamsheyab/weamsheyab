{
 "cells": [
  {
   "cell_type": "code",
   "execution_count": 1,
   "id": "4d90344a",
   "metadata": {
    "_cell_guid": "b1076dfc-b9ad-4769-8c92-a6c4dae69d19",
    "_uuid": "8f2839f25d086af736a60e9eeb907d3b93b6e0e5",
    "execution": {
     "iopub.execute_input": "2024-05-04T18:37:09.703400Z",
     "iopub.status.busy": "2024-05-04T18:37:09.702192Z",
     "iopub.status.idle": "2024-05-04T18:37:49.354294Z",
     "shell.execute_reply": "2024-05-04T18:37:49.352751Z"
    },
    "papermill": {
     "duration": 39.659388,
     "end_time": "2024-05-04T18:37:49.357512",
     "exception": false,
     "start_time": "2024-05-04T18:37:09.698124",
     "status": "completed"
    },
    "tags": []
   },
   "outputs": [],
   "source": [
    "import numpy as np # linear algebra import pandas as pd\n",
    "import pandas as pd\n",
    "from sklearn.ensemble import RandomForestRegressor \n",
    "from sklearn.model_selection import train_test_split\n",
    "\n",
    "# Read train and test data\n",
    "traindata = pd.read_csv('/kaggle/input/sample-solution/train.csv') \n",
    "testdata = pd.read_csv('/kaggle/input/sample-solution/test.csv')\n",
    "\n",
    "# Check if 'id' column exists before dropping it\n",
    "if 'id' in traindata.columns:\n",
    "    traindata.drop('id', axis=1, inplace=True)\n",
    "if 'id' in testdata.columns:\n",
    "    testdata.drop('id', axis=1, inplace=True)\n",
    "\n",
    "# Splitting data into features (x) and target variable (y)\n",
    "x_train = traindata.drop(\"Response\", axis=1)\n",
    "y_train = traindata[\"Response\"]\n",
    "\n",
    "# Create RandomForestRegressor model\n",
    "rf_model = RandomForestRegressor(n_estimators=180, random_state=66)\n",
    "\n",
    "# Fit the model\n",
    "rf_model.fit(x_train, y_train)\n",
    "\n",
    "# Make predictions\n",
    "y_predict = rf_model.predict(testdata)\n",
    "\n",
    "# Create DataFrame for predictions\n",
    "predict_data = pd.DataFrame({'id': testdata.index, 'Response': y_predict})\n",
    "\n",
    "# Save predictions to CSV\n",
    "predict_data.to_csv('randomforest4.csv', index=False)\n",
    "\n",
    "\n",
    "\n"
   ]
  }
 ],
 "metadata": {
  "kaggle": {
   "accelerator": "none",
   "dataSources": [
    {
     "datasetId": 4893387,
     "sourceId": 8247691,
     "sourceType": "datasetVersion"
    }
   ],
   "dockerImageVersionId": 30698,
   "isGpuEnabled": false,
   "isInternetEnabled": true,
   "language": "python",
   "sourceType": "notebook"
  },
  "kernelspec": {
   "display_name": "Python 3",
   "language": "python",
   "name": "python3"
  },
  "language_info": {
   "codemirror_mode": {
    "name": "ipython",
    "version": 3
   },
   "file_extension": ".py",
   "mimetype": "text/x-python",
   "name": "python",
   "nbconvert_exporter": "python",
   "pygments_lexer": "ipython3",
   "version": "3.10.13"
  },
  "papermill": {
   "default_parameters": {},
   "duration": 43.492462,
   "end_time": "2024-05-04T18:37:49.982589",
   "environment_variables": {},
   "exception": null,
   "input_path": "__notebook__.ipynb",
   "output_path": "__notebook__.ipynb",
   "parameters": {},
   "start_time": "2024-05-04T18:37:06.490127",
   "version": "2.5.0"
  }
 },
 "nbformat": 4,
 "nbformat_minor": 5
}
